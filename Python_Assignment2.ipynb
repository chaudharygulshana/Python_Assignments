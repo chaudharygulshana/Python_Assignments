{
 "cells": [
  {
   "cell_type": "markdown",
   "id": "87085dfd",
   "metadata": {},
   "source": [
    "1. Create the below pattern using nested for loop in Python.\n",
    "            *\n",
    "            * *\n",
    "            * * *\n",
    "            * * * *\n",
    "            * * * * *\n",
    "            * * * *\n",
    "            * * *\n",
    "            * *\n",
    "            *\n"
   ]
  },
  {
   "cell_type": "code",
   "execution_count": 11,
   "id": "27690331",
   "metadata": {},
   "outputs": [
    {
     "name": "stdout",
     "output_type": "stream",
     "text": [
      "\n",
      "*\n",
      "**\n",
      "***\n",
      "****\n",
      "*****\n",
      "*****\n",
      "****\n",
      "***\n",
      "**\n",
      "*\n",
      "\n"
     ]
    }
   ],
   "source": [
    "for i in range(6):\n",
    "    for j in range(i):\n",
    "        print('*',end='')\n",
    "    print()\n",
    "for j in range(6,0,-1):\n",
    "    for i in range(i):\n",
    "        print('*',end='')\n",
    "    print()\n",
    "    "
   ]
  },
  {
   "cell_type": "markdown",
   "id": "50c99991",
   "metadata": {},
   "source": [
    "2. Write a Python program to reverse a word after accepting the input from the user.\n",
    "\n",
    "## Sample output \n",
    "Input word: ineuron\n",
    "\n",
    "Output: norueni"
   ]
  },
  {
   "cell_type": "code",
   "execution_count": 7,
   "id": "cc9a3da5",
   "metadata": {},
   "outputs": [
    {
     "name": "stdout",
     "output_type": "stream",
     "text": [
      "Enter any word to reverse : ineuron\n",
      "norueni"
     ]
    }
   ],
   "source": [
    "word=input(\"Enter any word to reverse : \")\n",
    "n=len(word)\n",
    "for i in  range(n-1,-1,-1):\n",
    "    \n",
    "    print(word[i],end='')\n",
    "    \n"
   ]
  },
  {
   "cell_type": "code",
   "execution_count": null,
   "id": "6bb1a60a",
   "metadata": {},
   "outputs": [],
   "source": []
  }
 ],
 "metadata": {
  "kernelspec": {
   "display_name": "Python 3 (ipykernel)",
   "language": "python",
   "name": "python3"
  },
  "language_info": {
   "codemirror_mode": {
    "name": "ipython",
    "version": 3
   },
   "file_extension": ".py",
   "mimetype": "text/x-python",
   "name": "python",
   "nbconvert_exporter": "python",
   "pygments_lexer": "ipython3",
   "version": "3.9.7"
  }
 },
 "nbformat": 4,
 "nbformat_minor": 5
}
